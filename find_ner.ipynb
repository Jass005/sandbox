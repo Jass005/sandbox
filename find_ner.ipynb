{
 "cells": [
  {
   "cell_type": "code",
   "execution_count": 2,
   "metadata": {},
   "outputs": [
    {
     "name": "stderr",
     "output_type": "stream",
     "text": [
      "C:\\Users\\st50\\AppData\\Local\\Continuum\\anaconda3\\envs\\small_sklearn\\lib\\site-packages\\spacy\\util.py:275: UserWarning: [W031] Model 'en_core_web_sm' (2.2.5) requires spaCy v2.2 and is incompatible with the current spaCy version (2.3.1). This may lead to unexpected results or runtime errors. To resolve this, download a newer compatible model or retrain your custom model with the current spaCy version. For more details and available updates, run: python -m spacy validate\n",
      "  warnings.warn(warn_msg)\n"
     ]
    }
   ],
   "source": [
    "import pandas as pd\n",
    "import spacy\n",
    "import numpy as np\n",
    "nlp = spacy.load(\"en_core_web_sm\")"
   ]
  },
  {
   "cell_type": "code",
   "execution_count": 10,
   "metadata": {},
   "outputs": [],
   "source": [
    "def find_named_entities(dataframe1, ID_COL_NAME=\"id\", TEXT_COL_NAME = \"tweet_text\", include_text=True):   \n",
    "    output = []\n",
    "    \n",
    "    for index, row in dataframe1.iterrows():\n",
    "        if isinstance(row[TEXT_COL_NAME], str) and row[TEXT_COL_NAME]:\n",
    "            doc = nlp(row[TEXT_COL_NAME])\n",
    "            for e in doc.ents:\n",
    "                if include_text:\n",
    "                    output.append({ID_COL_NAME: row[ID_COL_NAME],\n",
    "                             TEXT_COL_NAME: row[TEXT_COL_NAME],\n",
    "                             'Entity': e.text,\n",
    "                             'Label': e.label_,\n",
    "                             'Start': e.start_char,\n",
    "                             'End': e.end_char,})\n",
    "                else:\n",
    "                    output.append({ID_COL_NAME: row[ID_COL_NAME],\n",
    "                             'Entity': e.text,\n",
    "                             'Label': e.label_,\n",
    "                             'Start': e.start_char,\n",
    "                             'End': e.end_char,})\n",
    "                \n",
    "    return pd.DataFrame(output)"
   ]
  },
  {
   "cell_type": "code",
   "execution_count": null,
   "metadata": {},
   "outputs": [],
   "source": [
    "df = pd.read_csv('data/obama_tweets.csv')\n",
    "df2 = find_named_entities(df, ID_COL_NAME=\"id\", TEXT_COL_NAME = \"tweet_text\")\n",
    "df2.to_csv('data/obama_tweets_ner.csv', index=False)"
   ]
  },
  {
   "cell_type": "code",
   "execution_count": 57,
   "metadata": {},
   "outputs": [],
   "source": [
    "df = pd.read_csv('data/kiva_cleaned.csv')\n",
    "df2 = find_named_entities(df, ID_COL_NAME=\"loan_id\", TEXT_COL_NAME = \"en_clean\")\n",
    "df2.to_csv('data/kiva_cleaned_ner.csv', index=False)"
   ]
  },
  {
   "cell_type": "code",
   "execution_count": 8,
   "metadata": {},
   "outputs": [],
   "source": [
    "df = pd.read_csv('data/elonmusk_tweets.csv')\n",
    "df2 = find_named_entities(df, ID_COL_NAME=\"id\", TEXT_COL_NAME = \"text\")\n",
    "df2.to_csv('data/elonmusk_tweets_ner.csv', index=False)"
   ]
  },
  {
   "cell_type": "code",
   "execution_count": 59,
   "metadata": {},
   "outputs": [],
   "source": [
    "df = pd.read_csv('data/2017_trump_tweets.csv')\n",
    "df2 = find_named_entities(df, ID_COL_NAME=\"id\", TEXT_COL_NAME = \"tweet\")\n",
    "df2.to_csv('data/2017_trump_tweets_ner.csv', index=False)"
   ]
  },
  {
   "cell_type": "code",
   "execution_count": 4,
   "metadata": {},
   "outputs": [],
   "source": [
    "df = pd.read_csv('data/pence_tweets.csv')\n",
    "df2 = find_named_entities(df, ID_COL_NAME=\"id\", TEXT_COL_NAME = \"tweet_text\")\n",
    "df2.to_csv('data/pence_tweets_ner.csv', index=False)"
   ]
  },
  {
   "cell_type": "code",
   "execution_count": 7,
   "metadata": {},
   "outputs": [],
   "source": [
    "df = pd.read_csv('data/reutersCSV.csv', encoding = 'utf_8')\n",
    "df2 = find_named_entities(df, ID_COL_NAME=\"pid\", TEXT_COL_NAME = \"doc.text\", include_text=False)\n",
    "df2.to_csv('data/reutersCSV_ner.csv', index=False)"
   ]
  },
  {
   "cell_type": "code",
   "execution_count": 9,
   "metadata": {},
   "outputs": [],
   "source": [
    "df = pd.read_csv('data/JoeBidenTweets.csv', encoding = 'utf_8')\n",
    "df2 = find_named_entities(df, ID_COL_NAME=\"id\", TEXT_COL_NAME = \"tweet\")\n",
    "df2.to_csv('data/JoeBidenTweets_ner.csv', index=False)"
   ]
  },
  {
   "cell_type": "code",
   "execution_count": null,
   "metadata": {},
   "outputs": [],
   "source": []
  }
 ],
 "metadata": {
  "kernelspec": {
   "display_name": "small_sklearn_kernel",
   "language": "python",
   "name": "small_sklearn_kernel"
  },
  "language_info": {
   "codemirror_mode": {
    "name": "ipython",
    "version": 3
   },
   "file_extension": ".py",
   "mimetype": "text/x-python",
   "name": "python",
   "nbconvert_exporter": "python",
   "pygments_lexer": "ipython3",
   "version": "3.6.10"
  }
 },
 "nbformat": 4,
 "nbformat_minor": 4
}
