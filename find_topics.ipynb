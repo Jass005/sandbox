{
 "cells": [
  {
   "cell_type": "code",
   "execution_count": 1,
   "metadata": {},
   "outputs": [],
   "source": [
    "import pandas as pd\n",
    "import numpy as np\n",
    "from sklearn.feature_extraction.text import TfidfVectorizer, CountVectorizer\n",
    "from sklearn.decomposition import NMF, LatentDirichletAllocation\n",
    "import re\n",
    "import numpy as np\n",
    "from nltk.corpus import stopwords \n",
    "from nltk.stem import WordNetLemmatizer\n",
    "from bs4 import BeautifulSoup"
   ]
  },
  {
   "cell_type": "code",
   "execution_count": 2,
   "metadata": {},
   "outputs": [],
   "source": [
    "n_features = 1000\n",
    "n_components = 75\n",
    "n_top_words = 20\n",
    "\n",
    "stop_words = set(stopwords.words('english'))\n",
    "\n",
    "lemmer = WordNetLemmatizer()\n",
    "\n",
    "def get_top_words(H, feature_names):\n",
    "    output = []\n",
    "    for topic_idx, topic in enumerate(H):\n",
    "        top_words = [(feature_names[i]) for i in topic.argsort()[:-n_top_words - 1:-1]]\n",
    "        output.append([str(topic_idx)] + top_words)\n",
    "        \n",
    "    return pd.DataFrame(output) \n",
    "\n",
    "def print_top_docs(topic_idx, W_df, data):\n",
    "    print(topic_idx)\n",
    "    top_doc_indices = np.argsort( W_df.iloc[:,topic_idx] )[::-1]\n",
    "    for doc_index in top_doc_indices[0:5]:\n",
    "        print(data.iloc[doc_index])\n",
    "\n",
    "# Simple preprocessor\n",
    "def preprocess(x):\n",
    "    \n",
    "    # Remove URLs\n",
    "    x = re.sub(r'http\\S+', '', x)\n",
    "    \n",
    "    # Remove HTML tags\n",
    "    x = BeautifulSoup(x, \"lxml\").get_text()\n",
    "    \n",
    "    #Lowercase\n",
    "    x = x.lower()\n",
    "    \n",
    "    # Remove HTML\n",
    "    \n",
    "    # Remove stopwords and lemmatize\n",
    "    x = [lemmer.lemmatize(w) for w in x.split() if w not in stop_words]\n",
    "    return ' '.join(x) \n",
    "\n",
    "\n",
    "def find_topics(data_samples, text_col = \"tweet_text\", include_text=True):   \n",
    "    output = []\n",
    "    \n",
    "    # We override the token_pattern in order to keep @signs and #hashtags\n",
    "    tfidf_vectorizer = TfidfVectorizer(max_df=0.80, min_df=5,\n",
    "                                   token_pattern = '[a-zA-Z0-9@#]+',\n",
    "                                   ngram_range={1,3},\n",
    "                                   preprocessor=preprocess,\n",
    "                                   max_features=n_features)\n",
    "\n",
    "    tfidf = tfidf_vectorizer.fit_transform(data_samples)\n",
    "    \n",
    "    nmf = NMF(n_components=n_components, random_state=1, init='nndsvda', solver='mu', alpha=.1, l1_ratio=.5)\n",
    "    \n",
    "    W = nmf.fit_transform(tfidf)\n",
    "    H = nmf.components_\n",
    "    top_words = get_top_words(H, tfidf_vectorizer.get_feature_names())\n",
    "    \n",
    "    W_df = pd.DataFrame(W, columns=[\"topic {}\".format(i) for i in range(n_components)])\n",
    "    H_df = pd.DataFrame(H, columns=tfidf_vectorizer.get_feature_names())\n",
    "    \n",
    "    return W_df, H_df, top_words   \n"
   ]
  },
  {
   "cell_type": "code",
   "execution_count": 3,
   "metadata": {},
   "outputs": [],
   "source": [
    "def do_it(file_base, id_col=\"id\", text_col=\"tweet_text\"):\n",
    "    df = pd.read_csv('data/'+file_base+'.csv')\n",
    "    \n",
    "    # Drop rows without any text\n",
    "    df = df.dropna(subset=[text_col])\n",
    "    \n",
    "    W_df, H_df, top_words = find_topics(df[text_col])\n",
    "\n",
    "    #print(top_words)\n",
    "    #for i in range(n_components):\n",
    "    #    print_top_docs(i, W_df, df[text_col])\n",
    "\n",
    "    pd.concat([df, W_df], axis=1).to_csv('out/'+file_base+'_W.csv', float_format='%.4f', index=False)\n",
    "    H_df.to_csv('out/'+file_base+'_H.csv', float_format='%.4f', index=True)\n",
    "    top_words.to_csv('out/'+file_base+'_top_words.csv', index=False)"
   ]
  },
  {
   "cell_type": "code",
   "execution_count": 4,
   "metadata": {},
   "outputs": [],
   "source": [
    "do_it(file_base=\"obama_tweets\", id_col=\"id\", text_col=\"tweet_text\")"
   ]
  },
  {
   "cell_type": "code",
   "execution_count": 5,
   "metadata": {},
   "outputs": [],
   "source": [
    "do_it(file_base=\"kiva_cleaned\", id_col=\"loan_id\", text_col=\"en_clean\")"
   ]
  },
  {
   "cell_type": "code",
   "execution_count": 6,
   "metadata": {},
   "outputs": [],
   "source": [
    "do_it(file_base=\"elonmusk_tweets\", id_col=\"id\", text_col=\"text\")"
   ]
  },
  {
   "cell_type": "code",
   "execution_count": 7,
   "metadata": {},
   "outputs": [],
   "source": [
    "do_it(file_base=\"2017_trump_tweets\", id_col=\"id\", text_col=\"tweet\")"
   ]
  },
  {
   "cell_type": "code",
   "execution_count": 8,
   "metadata": {},
   "outputs": [],
   "source": [
    "do_it(file_base=\"pence_tweets\", id_col=\"id\", text_col=\"tweet_text\")"
   ]
  },
  {
   "cell_type": "code",
   "execution_count": 9,
   "metadata": {},
   "outputs": [],
   "source": [
    "do_it(file_base=\"reutersCSV\", id_col=\"pid\", text_col=\"doc.text\")"
   ]
  },
  {
   "cell_type": "code",
   "execution_count": 10,
   "metadata": {},
   "outputs": [],
   "source": [
    "do_it(file_base=\"JoeBidenTweets\", id_col=\"id\", text_col=\"tweet\")"
   ]
  },
  {
   "cell_type": "code",
   "execution_count": 11,
   "metadata": {},
   "outputs": [],
   "source": [
    "do_it(file_base=\"amazon_food_reviews_10\", id_col=\"reviewID\", text_col=\"reviewText\")"
   ]
  },
  {
   "cell_type": "code",
   "execution_count": 12,
   "metadata": {},
   "outputs": [],
   "source": [
    "do_it(file_base=\"ISKON_IMB767-XLS-ENG\", id_col=\"ID\", text_col=\"text\")"
   ]
  },
  {
   "cell_type": "code",
   "execution_count": 13,
   "metadata": {},
   "outputs": [],
   "source": [
    "do_it(file_base=\"imdb.small\", id_col=\"id\", text_col=\"en\")"
   ]
  },
  {
   "cell_type": "code",
   "execution_count": 14,
   "metadata": {},
   "outputs": [],
   "source": [
    "do_it(file_base=\"reviews_Grocery_and_Gourmet_Food_5_50000\", id_col=\"reviewID\", text_col=\"reviewText\")"
   ]
  },
  {
   "cell_type": "code",
   "execution_count": 15,
   "metadata": {},
   "outputs": [
    {
     "name": "stderr",
     "output_type": "stream",
     "text": [
      "C:\\Users\\st50\\AppData\\Local\\Continuum\\anaconda3\\envs\\small_sklearn\\lib\\site-packages\\IPython\\core\\interactiveshell.py:3263: DtypeWarning: Columns (35,36) have mixed types.Specify dtype option on import or set low_memory=False.\n",
      "  if (await self.run_code(code, result,  async_=asy)):\n"
     ]
    }
   ],
   "source": [
    "do_it(file_base=\"vaers2\", id_col=\"VAERS_ID\", text_col=\"SYMPTOM_TEXT\")"
   ]
  },
  {
   "cell_type": "code",
   "execution_count": 16,
   "metadata": {},
   "outputs": [],
   "source": [
    "do_it(file_base=\"Hillary_Emails\", id_col=\"Id\", text_col=\"ExtractedBodyText\")"
   ]
  },
  {
   "cell_type": "code",
   "execution_count": null,
   "metadata": {},
   "outputs": [],
   "source": []
  }
 ],
 "metadata": {
  "kernelspec": {
   "display_name": "small_sklearn_kernel",
   "language": "python",
   "name": "small_sklearn_kernel"
  },
  "language_info": {
   "codemirror_mode": {
    "name": "ipython",
    "version": 3
   },
   "file_extension": ".py",
   "mimetype": "text/x-python",
   "name": "python",
   "nbconvert_exporter": "python",
   "pygments_lexer": "ipython3",
   "version": "3.6.10"
  }
 },
 "nbformat": 4,
 "nbformat_minor": 4
}
